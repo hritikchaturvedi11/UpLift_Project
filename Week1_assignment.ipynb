{
  "nbformat": 4,
  "nbformat_minor": 0,
  "metadata": {
    "colab": {
      "name": "Week1_assignment.ipynb",
      "provenance": [],
      "collapsed_sections": [],
      "authorship_tag": "ABX9TyPIhA8un/j5ZLO88ZcotM4H",
      "include_colab_link": true
    },
    "kernelspec": {
      "name": "python3",
      "display_name": "Python 3"
    },
    "language_info": {
      "name": "python"
    }
  },
  "cells": [
    {
      "cell_type": "markdown",
      "metadata": {
        "id": "view-in-github",
        "colab_type": "text"
      },
      "source": [
        "<a href=\"https://colab.research.google.com/github/hritikchaturvedi11/UpLift_Project/blob/main/Week1_assignment.ipynb\" target=\"_parent\"><img src=\"https://colab.research.google.com/assets/colab-badge.svg\" alt=\"Open In Colab\"/></a>"
      ]
    },
    {
      "cell_type": "markdown",
      "metadata": {
        "id": "UF87PaegR89_"
      },
      "source": [
        "> This notebook was created for code illustration of the `UpLift Project`\n",
        "\n",
        "\n",
        "`Assignment 1`\n",
        "\n",
        "**Date Created**: _June , 2021_\n",
        "\n",
        "\n",
        "**Author**: _Hritik Chaturvedi_ \n",
        "\n",
        "**Reach out**:\n",
        "[Email](https://www.google.com/intl/en-GB/gmail/about/#) | [GitHub](https://github.com/hritikchaturvedi11) | [LinkedIn](https://www.linkedin.com/in/hritik-chaturvedi-72424317b/)\n",
        "\n",
        "[[Assigment Repository](https://github.com/hritikchaturvedi11/UpLift_Project)]"
      ]
    },
    {
      "cell_type": "markdown",
      "metadata": {
        "id": "Quoa5H5VTZ-n"
      },
      "source": [
        "Mounting the drive"
      ]
    },
    {
      "cell_type": "code",
      "metadata": {
        "colab": {
          "base_uri": "https://localhost:8080/"
        },
        "id": "vQLSnaf5ZGCx",
        "outputId": "0737ddf0-c392-4792-b484-117396476f8c"
      },
      "source": [
        "from google.colab import drive\n",
        "drive.mount('/content/drive')"
      ],
      "execution_count": 1,
      "outputs": [
        {
          "output_type": "stream",
          "text": [
            "Mounted at /content/drive\n"
          ],
          "name": "stdout"
        }
      ]
    },
    {
      "cell_type": "code",
      "metadata": {
        "colab": {
          "base_uri": "https://localhost:8080/"
        },
        "id": "ziKLJdY8ZrdS",
        "outputId": "d125c411-d80b-42bc-d79a-71dc50dfd7f7"
      },
      "source": [
        "cd '/content/drive/MyDrive/Uplift_Project'"
      ],
      "execution_count": 187,
      "outputs": [
        {
          "output_type": "stream",
          "text": [
            "/content/drive/MyDrive/Uplift_Project\n"
          ],
          "name": "stdout"
        }
      ]
    },
    {
      "cell_type": "code",
      "metadata": {
        "colab": {
          "base_uri": "https://localhost:8080/"
        },
        "id": "BtKXjz1FZ1gy",
        "outputId": "871ceaa1-93b5-4d39-b913-04fec25b0c3b"
      },
      "source": [
        "ls"
      ],
      "execution_count": 188,
      "outputs": [
        {
          "output_type": "stream",
          "text": [
            "copy.txt  Week1_assignment.ipynb  week1_assignment.txt\n"
          ],
          "name": "stdout"
        }
      ]
    },
    {
      "cell_type": "markdown",
      "metadata": {
        "id": "9iqYNkT5Tg1Y"
      },
      "source": [
        "Opening the txt file"
      ]
    },
    {
      "cell_type": "code",
      "metadata": {
        "colab": {
          "base_uri": "https://localhost:8080/"
        },
        "id": "R-4bG5Ewak8_",
        "outputId": "2f434df2-13fb-488e-8af8-9375841f2767"
      },
      "source": [
        "with open('week1_assignment.txt', 'r') as f:\n",
        "  contents = f.read()\n",
        "print(contents)\n"
      ],
      "execution_count": 189,
      "outputs": [
        {
          "output_type": "stream",
          "text": [
            "﻿{'John':100,'Rima':70,'Alpha':80,'Ram':30,\n",
            "'Jack':20,'Rima':60,'Beta':50,'Shyam':40,\n",
            "'Jim':100,'Rina':70,'Alpha':40,'Ram':20,\n",
            "'Jack':100,'Rima':30,'Beta':30,'Shyam':10,\n",
            "'Katy':100,'Jaya':70,'Alpha':80,'Stephanie':30,\n",
            "'Beyonder':20,'Katy':60,'Stephanie':50,'Katy':40,\n",
            "'Jim':100,'Rina':70,'Katy':40,'Ram':20,\n",
            "'Stephanie':100,'Jaya':30,'Ludwika':30,'Beyonder':10,\n",
            "'Chris':100,'Brody':70,'Alpha':80,'Thor':30,\n",
            "'Bjor':20,'Chris':60,'Beta':50,'Tony':40,\n",
            "'Thor':100,'Rina':70,'Ron':40,'Tony':20,\n",
            "'Jack':100,'Brody':30,'Beta':30,'Shyam':10,\n",
            "'Katy':100,'Jaya':70,'Alpha':80,'Stephanie':30,\n",
            "'Beyonder':20,'Jatz':60,'Jatz':50,'Katy':40,\n",
            "'Jim':100,'Beyonder':70,'Katy':40,'Bjor':20,\n",
            "'Stephanie':100,'Jaya':30,'Ludwika':30,'Beyonder':10,\n",
            "'John':100,'Rima':70,'Alpha':80,'Ram':30,\n",
            "'Jack':20,'Rima':60,'Beta':50,'Shyam':40,\n",
            "'Jim':100,'Rina':70,'Alpha':40,'Ram':20,\n",
            "'Jack':100,'Rima':30,'Beta':30,'Shyam':10,\n",
            "'Katy':100,'Jaya':70,'Alpha':80,'Stephanie':30,\n",
            "'Beyonder':20,'Katy':60,'Stephanie':50,'Katy':40,\n",
            "'Jim':100,'Rina':70,'Katy':40,'Ram':20,\n",
            "'Stephanie':100,'Jaya':30,'Ludwika':30,'Beyonder':10,\n",
            "'Chris':100,'Brody':70,'Alpha':80,'Thor':30,\n",
            "'Bjor':20,'Chris':60,'Beta':50,'Tony':40,\n",
            "'Thor':100,'Rina':70,'Ron':40,'Tony':20,\n",
            "'Jack':100,'Brody':30,'Beta':30,'Shyam':10,\n",
            "'Katy':100,'Jaya':70,'Alpha':80,'Stephanie':30,\n",
            "'Beyonder':20,'Jatz':60,'Jatz':50,'Katy':40,\n",
            "'Jim':100,'Beyonder':70,'Katy':40,'Bjor':20,\n",
            "'Stephanie':100,'Jaya':30,'Ludwika':30,'Beyonder':10,\n",
            "'John':100,'Rima':70,'Alpha':80,'Ram':30,\n",
            "'Jack':20,'Rima':60,'Beta':50,'Shyam':40,\n",
            "'Jim':100,'Rina':70,'Alpha':40,'Ram':20,\n",
            "'Jack':100,'Rima':30,'Beta':30,'Shyam':10,\n",
            "'Katy':100,'Jaya':70,'Alpha':80,'Stephanie':30,\n",
            "'Beyonder':20,'Katy':60,'Stephanie':50,'Katy':40,\n",
            "'Jim':100,'Rina':70,'Katy':40,'Ram':20,\n",
            "'Stephanie':100,'Jaya':30,'Ludwika':30,'Beyonder':10,\n",
            "'Chris':100,'Brody':70,'Alpha':80,'Thor':30,\n",
            "'Bjor':20,'Chris':60,'Beta':50,'Tony':40,\n",
            "'Thor':100,'Rina':70,'Ron':40,'Tony':20,\n",
            "'Jack':100,'Brody':30,'Beta':30,'Shyam':10,\n",
            "'Katy':100,'Jaya':70,'Alpha':80,'Stephanie':30,\n",
            "'Beyonder':20,'Jatz':60,'Jatz':50,'Katy':40,\n",
            "'Jim':100,'Beyonder':70,'Katy':40,'Bjor':20,\n",
            "'Stephanie':100,'Jaya':30,'Ludwika':30,'Beyonder':10\n",
            "}\n"
          ],
          "name": "stdout"
        }
      ]
    },
    {
      "cell_type": "code",
      "metadata": {
        "colab": {
          "base_uri": "https://localhost:8080/"
        },
        "id": "QUAWXG-Z5QXB",
        "outputId": "7b13697e-a1e3-4781-8270-ef1f636d342e"
      },
      "source": [
        "type(contents)"
      ],
      "execution_count": 190,
      "outputs": [
        {
          "output_type": "execute_result",
          "data": {
            "text/plain": [
              "str"
            ]
          },
          "metadata": {
            "tags": []
          },
          "execution_count": 190
        }
      ]
    },
    {
      "cell_type": "markdown",
      "metadata": {
        "id": "m_Om6D_STlBh"
      },
      "source": [
        "Importing regular expression"
      ]
    },
    {
      "cell_type": "code",
      "metadata": {
        "id": "LwtQSm-e5ULL"
      },
      "source": [
        "import re"
      ],
      "execution_count": 191,
      "outputs": []
    },
    {
      "cell_type": "markdown",
      "metadata": {
        "id": "apcIyaCLToyV"
      },
      "source": [
        "Removing extra characters that are not useful."
      ]
    },
    {
      "cell_type": "code",
      "metadata": {
        "colab": {
          "base_uri": "https://localhost:8080/",
          "height": 137
        },
        "id": "I2YMnrkH5Wla",
        "outputId": "8bb5be08-52e2-46e3-e89a-005e975de5a0"
      },
      "source": [
        "contents = re.sub('\\ufeff','', contents)\n",
        "contents = re.sub(\"'\",'', contents)\n",
        "contents = re.sub('\\n','', contents)\n",
        "contents = re.sub('{','', contents)\n",
        "contents = re.sub('}','', contents)\n",
        "contents = re.sub(':',',',contents)\n",
        "contents"
      ],
      "execution_count": 192,
      "outputs": [
        {
          "output_type": "execute_result",
          "data": {
            "application/vnd.google.colaboratory.intrinsic+json": {
              "type": "string"
            },
            "text/plain": [
              "'John,100,Rima,70,Alpha,80,Ram,30,Jack,20,Rima,60,Beta,50,Shyam,40,Jim,100,Rina,70,Alpha,40,Ram,20,Jack,100,Rima,30,Beta,30,Shyam,10,Katy,100,Jaya,70,Alpha,80,Stephanie,30,Beyonder,20,Katy,60,Stephanie,50,Katy,40,Jim,100,Rina,70,Katy,40,Ram,20,Stephanie,100,Jaya,30,Ludwika,30,Beyonder,10,Chris,100,Brody,70,Alpha,80,Thor,30,Bjor,20,Chris,60,Beta,50,Tony,40,Thor,100,Rina,70,Ron,40,Tony,20,Jack,100,Brody,30,Beta,30,Shyam,10,Katy,100,Jaya,70,Alpha,80,Stephanie,30,Beyonder,20,Jatz,60,Jatz,50,Katy,40,Jim,100,Beyonder,70,Katy,40,Bjor,20,Stephanie,100,Jaya,30,Ludwika,30,Beyonder,10,John,100,Rima,70,Alpha,80,Ram,30,Jack,20,Rima,60,Beta,50,Shyam,40,Jim,100,Rina,70,Alpha,40,Ram,20,Jack,100,Rima,30,Beta,30,Shyam,10,Katy,100,Jaya,70,Alpha,80,Stephanie,30,Beyonder,20,Katy,60,Stephanie,50,Katy,40,Jim,100,Rina,70,Katy,40,Ram,20,Stephanie,100,Jaya,30,Ludwika,30,Beyonder,10,Chris,100,Brody,70,Alpha,80,Thor,30,Bjor,20,Chris,60,Beta,50,Tony,40,Thor,100,Rina,70,Ron,40,Tony,20,Jack,100,Brody,30,Beta,30,Shyam,10,Katy,100,Jaya,70,Alpha,80,Stephanie,30,Beyonder,20,Jatz,60,Jatz,50,Katy,40,Jim,100,Beyonder,70,Katy,40,Bjor,20,Stephanie,100,Jaya,30,Ludwika,30,Beyonder,10,John,100,Rima,70,Alpha,80,Ram,30,Jack,20,Rima,60,Beta,50,Shyam,40,Jim,100,Rina,70,Alpha,40,Ram,20,Jack,100,Rima,30,Beta,30,Shyam,10,Katy,100,Jaya,70,Alpha,80,Stephanie,30,Beyonder,20,Katy,60,Stephanie,50,Katy,40,Jim,100,Rina,70,Katy,40,Ram,20,Stephanie,100,Jaya,30,Ludwika,30,Beyonder,10,Chris,100,Brody,70,Alpha,80,Thor,30,Bjor,20,Chris,60,Beta,50,Tony,40,Thor,100,Rina,70,Ron,40,Tony,20,Jack,100,Brody,30,Beta,30,Shyam,10,Katy,100,Jaya,70,Alpha,80,Stephanie,30,Beyonder,20,Jatz,60,Jatz,50,Katy,40,Jim,100,Beyonder,70,Katy,40,Bjor,20,Stephanie,100,Jaya,30,Ludwika,30,Beyonder,10'"
            ]
          },
          "metadata": {
            "tags": []
          },
          "execution_count": 192
        }
      ]
    },
    {
      "cell_type": "code",
      "metadata": {
        "colab": {
          "base_uri": "https://localhost:8080/"
        },
        "id": "P1Mfz7v-7fcb",
        "outputId": "49d52c41-1550-4c98-afcc-ac5cdaced170"
      },
      "source": [
        "print(contents)"
      ],
      "execution_count": 193,
      "outputs": [
        {
          "output_type": "stream",
          "text": [
            "John,100,Rima,70,Alpha,80,Ram,30,Jack,20,Rima,60,Beta,50,Shyam,40,Jim,100,Rina,70,Alpha,40,Ram,20,Jack,100,Rima,30,Beta,30,Shyam,10,Katy,100,Jaya,70,Alpha,80,Stephanie,30,Beyonder,20,Katy,60,Stephanie,50,Katy,40,Jim,100,Rina,70,Katy,40,Ram,20,Stephanie,100,Jaya,30,Ludwika,30,Beyonder,10,Chris,100,Brody,70,Alpha,80,Thor,30,Bjor,20,Chris,60,Beta,50,Tony,40,Thor,100,Rina,70,Ron,40,Tony,20,Jack,100,Brody,30,Beta,30,Shyam,10,Katy,100,Jaya,70,Alpha,80,Stephanie,30,Beyonder,20,Jatz,60,Jatz,50,Katy,40,Jim,100,Beyonder,70,Katy,40,Bjor,20,Stephanie,100,Jaya,30,Ludwika,30,Beyonder,10,John,100,Rima,70,Alpha,80,Ram,30,Jack,20,Rima,60,Beta,50,Shyam,40,Jim,100,Rina,70,Alpha,40,Ram,20,Jack,100,Rima,30,Beta,30,Shyam,10,Katy,100,Jaya,70,Alpha,80,Stephanie,30,Beyonder,20,Katy,60,Stephanie,50,Katy,40,Jim,100,Rina,70,Katy,40,Ram,20,Stephanie,100,Jaya,30,Ludwika,30,Beyonder,10,Chris,100,Brody,70,Alpha,80,Thor,30,Bjor,20,Chris,60,Beta,50,Tony,40,Thor,100,Rina,70,Ron,40,Tony,20,Jack,100,Brody,30,Beta,30,Shyam,10,Katy,100,Jaya,70,Alpha,80,Stephanie,30,Beyonder,20,Jatz,60,Jatz,50,Katy,40,Jim,100,Beyonder,70,Katy,40,Bjor,20,Stephanie,100,Jaya,30,Ludwika,30,Beyonder,10,John,100,Rima,70,Alpha,80,Ram,30,Jack,20,Rima,60,Beta,50,Shyam,40,Jim,100,Rina,70,Alpha,40,Ram,20,Jack,100,Rima,30,Beta,30,Shyam,10,Katy,100,Jaya,70,Alpha,80,Stephanie,30,Beyonder,20,Katy,60,Stephanie,50,Katy,40,Jim,100,Rina,70,Katy,40,Ram,20,Stephanie,100,Jaya,30,Ludwika,30,Beyonder,10,Chris,100,Brody,70,Alpha,80,Thor,30,Bjor,20,Chris,60,Beta,50,Tony,40,Thor,100,Rina,70,Ron,40,Tony,20,Jack,100,Brody,30,Beta,30,Shyam,10,Katy,100,Jaya,70,Alpha,80,Stephanie,30,Beyonder,20,Jatz,60,Jatz,50,Katy,40,Jim,100,Beyonder,70,Katy,40,Bjor,20,Stephanie,100,Jaya,30,Ludwika,30,Beyonder,10\n"
          ],
          "name": "stdout"
        }
      ]
    },
    {
      "cell_type": "code",
      "metadata": {
        "colab": {
          "base_uri": "https://localhost:8080/"
        },
        "id": "YLQ9QAML-5RO",
        "outputId": "56be6594-c94f-45dc-c80c-df5055a92475"
      },
      "source": [
        "len(contents)"
      ],
      "execution_count": 194,
      "outputs": [
        {
          "output_type": "execute_result",
          "data": {
            "text/plain": [
              "1739"
            ]
          },
          "metadata": {
            "tags": []
          },
          "execution_count": 194
        }
      ]
    },
    {
      "cell_type": "markdown",
      "metadata": {
        "id": "HAx6BvEwTxbP"
      },
      "source": [
        "Making a list so that marks and name can be seprated"
      ]
    },
    {
      "cell_type": "code",
      "metadata": {
        "id": "6mLx9cr2-8K6"
      },
      "source": [
        "contents = contents.split(',')"
      ],
      "execution_count": 195,
      "outputs": []
    },
    {
      "cell_type": "code",
      "metadata": {
        "colab": {
          "base_uri": "https://localhost:8080/"
        },
        "id": "d40cX-zECjA_",
        "outputId": "9eced3e8-a1f6-43c8-c04a-f6e1b55ea16c"
      },
      "source": [
        "i=0\n",
        "while i<len(contents):\n",
        "  print(contents[i])\n",
        "  i=i+1"
      ],
      "execution_count": 196,
      "outputs": [
        {
          "output_type": "stream",
          "text": [
            "John\n",
            "100\n",
            "Rima\n",
            "70\n",
            "Alpha\n",
            "80\n",
            "Ram\n",
            "30\n",
            "Jack\n",
            "20\n",
            "Rima\n",
            "60\n",
            "Beta\n",
            "50\n",
            "Shyam\n",
            "40\n",
            "Jim\n",
            "100\n",
            "Rina\n",
            "70\n",
            "Alpha\n",
            "40\n",
            "Ram\n",
            "20\n",
            "Jack\n",
            "100\n",
            "Rima\n",
            "30\n",
            "Beta\n",
            "30\n",
            "Shyam\n",
            "10\n",
            "Katy\n",
            "100\n",
            "Jaya\n",
            "70\n",
            "Alpha\n",
            "80\n",
            "Stephanie\n",
            "30\n",
            "Beyonder\n",
            "20\n",
            "Katy\n",
            "60\n",
            "Stephanie\n",
            "50\n",
            "Katy\n",
            "40\n",
            "Jim\n",
            "100\n",
            "Rina\n",
            "70\n",
            "Katy\n",
            "40\n",
            "Ram\n",
            "20\n",
            "Stephanie\n",
            "100\n",
            "Jaya\n",
            "30\n",
            "Ludwika\n",
            "30\n",
            "Beyonder\n",
            "10\n",
            "Chris\n",
            "100\n",
            "Brody\n",
            "70\n",
            "Alpha\n",
            "80\n",
            "Thor\n",
            "30\n",
            "Bjor\n",
            "20\n",
            "Chris\n",
            "60\n",
            "Beta\n",
            "50\n",
            "Tony\n",
            "40\n",
            "Thor\n",
            "100\n",
            "Rina\n",
            "70\n",
            "Ron\n",
            "40\n",
            "Tony\n",
            "20\n",
            "Jack\n",
            "100\n",
            "Brody\n",
            "30\n",
            "Beta\n",
            "30\n",
            "Shyam\n",
            "10\n",
            "Katy\n",
            "100\n",
            "Jaya\n",
            "70\n",
            "Alpha\n",
            "80\n",
            "Stephanie\n",
            "30\n",
            "Beyonder\n",
            "20\n",
            "Jatz\n",
            "60\n",
            "Jatz\n",
            "50\n",
            "Katy\n",
            "40\n",
            "Jim\n",
            "100\n",
            "Beyonder\n",
            "70\n",
            "Katy\n",
            "40\n",
            "Bjor\n",
            "20\n",
            "Stephanie\n",
            "100\n",
            "Jaya\n",
            "30\n",
            "Ludwika\n",
            "30\n",
            "Beyonder\n",
            "10\n",
            "John\n",
            "100\n",
            "Rima\n",
            "70\n",
            "Alpha\n",
            "80\n",
            "Ram\n",
            "30\n",
            "Jack\n",
            "20\n",
            "Rima\n",
            "60\n",
            "Beta\n",
            "50\n",
            "Shyam\n",
            "40\n",
            "Jim\n",
            "100\n",
            "Rina\n",
            "70\n",
            "Alpha\n",
            "40\n",
            "Ram\n",
            "20\n",
            "Jack\n",
            "100\n",
            "Rima\n",
            "30\n",
            "Beta\n",
            "30\n",
            "Shyam\n",
            "10\n",
            "Katy\n",
            "100\n",
            "Jaya\n",
            "70\n",
            "Alpha\n",
            "80\n",
            "Stephanie\n",
            "30\n",
            "Beyonder\n",
            "20\n",
            "Katy\n",
            "60\n",
            "Stephanie\n",
            "50\n",
            "Katy\n",
            "40\n",
            "Jim\n",
            "100\n",
            "Rina\n",
            "70\n",
            "Katy\n",
            "40\n",
            "Ram\n",
            "20\n",
            "Stephanie\n",
            "100\n",
            "Jaya\n",
            "30\n",
            "Ludwika\n",
            "30\n",
            "Beyonder\n",
            "10\n",
            "Chris\n",
            "100\n",
            "Brody\n",
            "70\n",
            "Alpha\n",
            "80\n",
            "Thor\n",
            "30\n",
            "Bjor\n",
            "20\n",
            "Chris\n",
            "60\n",
            "Beta\n",
            "50\n",
            "Tony\n",
            "40\n",
            "Thor\n",
            "100\n",
            "Rina\n",
            "70\n",
            "Ron\n",
            "40\n",
            "Tony\n",
            "20\n",
            "Jack\n",
            "100\n",
            "Brody\n",
            "30\n",
            "Beta\n",
            "30\n",
            "Shyam\n",
            "10\n",
            "Katy\n",
            "100\n",
            "Jaya\n",
            "70\n",
            "Alpha\n",
            "80\n",
            "Stephanie\n",
            "30\n",
            "Beyonder\n",
            "20\n",
            "Jatz\n",
            "60\n",
            "Jatz\n",
            "50\n",
            "Katy\n",
            "40\n",
            "Jim\n",
            "100\n",
            "Beyonder\n",
            "70\n",
            "Katy\n",
            "40\n",
            "Bjor\n",
            "20\n",
            "Stephanie\n",
            "100\n",
            "Jaya\n",
            "30\n",
            "Ludwika\n",
            "30\n",
            "Beyonder\n",
            "10\n",
            "John\n",
            "100\n",
            "Rima\n",
            "70\n",
            "Alpha\n",
            "80\n",
            "Ram\n",
            "30\n",
            "Jack\n",
            "20\n",
            "Rima\n",
            "60\n",
            "Beta\n",
            "50\n",
            "Shyam\n",
            "40\n",
            "Jim\n",
            "100\n",
            "Rina\n",
            "70\n",
            "Alpha\n",
            "40\n",
            "Ram\n",
            "20\n",
            "Jack\n",
            "100\n",
            "Rima\n",
            "30\n",
            "Beta\n",
            "30\n",
            "Shyam\n",
            "10\n",
            "Katy\n",
            "100\n",
            "Jaya\n",
            "70\n",
            "Alpha\n",
            "80\n",
            "Stephanie\n",
            "30\n",
            "Beyonder\n",
            "20\n",
            "Katy\n",
            "60\n",
            "Stephanie\n",
            "50\n",
            "Katy\n",
            "40\n",
            "Jim\n",
            "100\n",
            "Rina\n",
            "70\n",
            "Katy\n",
            "40\n",
            "Ram\n",
            "20\n",
            "Stephanie\n",
            "100\n",
            "Jaya\n",
            "30\n",
            "Ludwika\n",
            "30\n",
            "Beyonder\n",
            "10\n",
            "Chris\n",
            "100\n",
            "Brody\n",
            "70\n",
            "Alpha\n",
            "80\n",
            "Thor\n",
            "30\n",
            "Bjor\n",
            "20\n",
            "Chris\n",
            "60\n",
            "Beta\n",
            "50\n",
            "Tony\n",
            "40\n",
            "Thor\n",
            "100\n",
            "Rina\n",
            "70\n",
            "Ron\n",
            "40\n",
            "Tony\n",
            "20\n",
            "Jack\n",
            "100\n",
            "Brody\n",
            "30\n",
            "Beta\n",
            "30\n",
            "Shyam\n",
            "10\n",
            "Katy\n",
            "100\n",
            "Jaya\n",
            "70\n",
            "Alpha\n",
            "80\n",
            "Stephanie\n",
            "30\n",
            "Beyonder\n",
            "20\n",
            "Jatz\n",
            "60\n",
            "Jatz\n",
            "50\n",
            "Katy\n",
            "40\n",
            "Jim\n",
            "100\n",
            "Beyonder\n",
            "70\n",
            "Katy\n",
            "40\n",
            "Bjor\n",
            "20\n",
            "Stephanie\n",
            "100\n",
            "Jaya\n",
            "30\n",
            "Ludwika\n",
            "30\n",
            "Beyonder\n",
            "10\n"
          ],
          "name": "stdout"
        }
      ]
    },
    {
      "cell_type": "markdown",
      "metadata": {
        "id": "sXUvr0fVT6yY"
      },
      "source": [
        "Created two lists name and marks each"
      ]
    },
    {
      "cell_type": "code",
      "metadata": {
        "colab": {
          "base_uri": "https://localhost:8080/"
        },
        "id": "RV0uht4cDIVK",
        "outputId": "786119fe-9288-4adc-d554-7f3d1b058d4d"
      },
      "source": [
        "name = []\n",
        "marks = []\n",
        "i=0\n",
        "while i<len(contents):\n",
        "  if(i%2==0):\n",
        "    name.append(contents[i])\n",
        "  else:\n",
        "    marks.append(contents[i])\n",
        "  i=i+1\n",
        "\n",
        "print(name)\n",
        "print(marks)"
      ],
      "execution_count": 197,
      "outputs": [
        {
          "output_type": "stream",
          "text": [
            "['John', 'Rima', 'Alpha', 'Ram', 'Jack', 'Rima', 'Beta', 'Shyam', 'Jim', 'Rina', 'Alpha', 'Ram', 'Jack', 'Rima', 'Beta', 'Shyam', 'Katy', 'Jaya', 'Alpha', 'Stephanie', 'Beyonder', 'Katy', 'Stephanie', 'Katy', 'Jim', 'Rina', 'Katy', 'Ram', 'Stephanie', 'Jaya', 'Ludwika', 'Beyonder', 'Chris', 'Brody', 'Alpha', 'Thor', 'Bjor', 'Chris', 'Beta', 'Tony', 'Thor', 'Rina', 'Ron', 'Tony', 'Jack', 'Brody', 'Beta', 'Shyam', 'Katy', 'Jaya', 'Alpha', 'Stephanie', 'Beyonder', 'Jatz', 'Jatz', 'Katy', 'Jim', 'Beyonder', 'Katy', 'Bjor', 'Stephanie', 'Jaya', 'Ludwika', 'Beyonder', 'John', 'Rima', 'Alpha', 'Ram', 'Jack', 'Rima', 'Beta', 'Shyam', 'Jim', 'Rina', 'Alpha', 'Ram', 'Jack', 'Rima', 'Beta', 'Shyam', 'Katy', 'Jaya', 'Alpha', 'Stephanie', 'Beyonder', 'Katy', 'Stephanie', 'Katy', 'Jim', 'Rina', 'Katy', 'Ram', 'Stephanie', 'Jaya', 'Ludwika', 'Beyonder', 'Chris', 'Brody', 'Alpha', 'Thor', 'Bjor', 'Chris', 'Beta', 'Tony', 'Thor', 'Rina', 'Ron', 'Tony', 'Jack', 'Brody', 'Beta', 'Shyam', 'Katy', 'Jaya', 'Alpha', 'Stephanie', 'Beyonder', 'Jatz', 'Jatz', 'Katy', 'Jim', 'Beyonder', 'Katy', 'Bjor', 'Stephanie', 'Jaya', 'Ludwika', 'Beyonder', 'John', 'Rima', 'Alpha', 'Ram', 'Jack', 'Rima', 'Beta', 'Shyam', 'Jim', 'Rina', 'Alpha', 'Ram', 'Jack', 'Rima', 'Beta', 'Shyam', 'Katy', 'Jaya', 'Alpha', 'Stephanie', 'Beyonder', 'Katy', 'Stephanie', 'Katy', 'Jim', 'Rina', 'Katy', 'Ram', 'Stephanie', 'Jaya', 'Ludwika', 'Beyonder', 'Chris', 'Brody', 'Alpha', 'Thor', 'Bjor', 'Chris', 'Beta', 'Tony', 'Thor', 'Rina', 'Ron', 'Tony', 'Jack', 'Brody', 'Beta', 'Shyam', 'Katy', 'Jaya', 'Alpha', 'Stephanie', 'Beyonder', 'Jatz', 'Jatz', 'Katy', 'Jim', 'Beyonder', 'Katy', 'Bjor', 'Stephanie', 'Jaya', 'Ludwika', 'Beyonder']\n",
            "['100', '70', '80', '30', '20', '60', '50', '40', '100', '70', '40', '20', '100', '30', '30', '10', '100', '70', '80', '30', '20', '60', '50', '40', '100', '70', '40', '20', '100', '30', '30', '10', '100', '70', '80', '30', '20', '60', '50', '40', '100', '70', '40', '20', '100', '30', '30', '10', '100', '70', '80', '30', '20', '60', '50', '40', '100', '70', '40', '20', '100', '30', '30', '10', '100', '70', '80', '30', '20', '60', '50', '40', '100', '70', '40', '20', '100', '30', '30', '10', '100', '70', '80', '30', '20', '60', '50', '40', '100', '70', '40', '20', '100', '30', '30', '10', '100', '70', '80', '30', '20', '60', '50', '40', '100', '70', '40', '20', '100', '30', '30', '10', '100', '70', '80', '30', '20', '60', '50', '40', '100', '70', '40', '20', '100', '30', '30', '10', '100', '70', '80', '30', '20', '60', '50', '40', '100', '70', '40', '20', '100', '30', '30', '10', '100', '70', '80', '30', '20', '60', '50', '40', '100', '70', '40', '20', '100', '30', '30', '10', '100', '70', '80', '30', '20', '60', '50', '40', '100', '70', '40', '20', '100', '30', '30', '10', '100', '70', '80', '30', '20', '60', '50', '40', '100', '70', '40', '20', '100', '30', '30', '10']\n"
          ],
          "name": "stdout"
        }
      ]
    },
    {
      "cell_type": "markdown",
      "metadata": {
        "id": "MP7mqkwgUDJz"
      },
      "source": [
        "Created dictionary for count of distinct occurence of names"
      ]
    },
    {
      "cell_type": "code",
      "metadata": {
        "colab": {
          "base_uri": "https://localhost:8080/"
        },
        "id": "ZOJawB5WDpiW",
        "outputId": "7ed7620e-b70d-4879-8980-20873c71db2c"
      },
      "source": [
        "my_name = {i:name.count(i) for i in name}\n",
        "my_name = {k: v for k, v in sorted(my_name.items(), key=lambda item: item[1])}\n",
        "my_name"
      ],
      "execution_count": 207,
      "outputs": [
        {
          "output_type": "execute_result",
          "data": {
            "text/plain": [
              "{'Alpha': 15,\n",
              " 'Beta': 12,\n",
              " 'Beyonder': 15,\n",
              " 'Bjor': 6,\n",
              " 'Brody': 6,\n",
              " 'Chris': 6,\n",
              " 'Jack': 9,\n",
              " 'Jatz': 6,\n",
              " 'Jaya': 12,\n",
              " 'Jim': 9,\n",
              " 'John': 3,\n",
              " 'Katy': 21,\n",
              " 'Ludwika': 6,\n",
              " 'Ram': 9,\n",
              " 'Rima': 9,\n",
              " 'Rina': 9,\n",
              " 'Ron': 3,\n",
              " 'Shyam': 9,\n",
              " 'Stephanie': 15,\n",
              " 'Thor': 6,\n",
              " 'Tony': 6}"
            ]
          },
          "metadata": {
            "tags": []
          },
          "execution_count": 207
        }
      ]
    },
    {
      "cell_type": "markdown",
      "metadata": {
        "id": "2XrHRvCWUJTi"
      },
      "source": [
        "Created dictionary for count of distinct occurence of marks"
      ]
    },
    {
      "cell_type": "code",
      "metadata": {
        "colab": {
          "base_uri": "https://localhost:8080/"
        },
        "id": "o7OO4bQbFMXx",
        "outputId": "d69f587b-cdce-4d36-b6eb-2a2f122c3a62"
      },
      "source": [
        "my_marks = {i:marks.count(i) for i in marks}\n",
        "my_marks = {k: v for k, v in sorted(my_marks.items(), key=lambda item: item[1], reverse=True)}\n",
        "my_marks"
      ],
      "execution_count": 215,
      "outputs": [
        {
          "output_type": "execute_result",
          "data": {
            "text/plain": [
              "{'10': 12,\n",
              " '100': 36,\n",
              " '20': 24,\n",
              " '30': 36,\n",
              " '40': 24,\n",
              " '50': 12,\n",
              " '60': 12,\n",
              " '70': 24,\n",
              " '80': 12}"
            ]
          },
          "metadata": {
            "tags": []
          },
          "execution_count": 215
        }
      ]
    },
    {
      "cell_type": "markdown",
      "metadata": {
        "id": "xIbRTm4qUTkD"
      },
      "source": [
        "Created dictionary for count of index of every marks mapped with name"
      ]
    },
    {
      "cell_type": "code",
      "metadata": {
        "colab": {
          "base_uri": "https://localhost:8080/"
        },
        "id": "WavWt2RLF5fk",
        "outputId": "58545a80-4474-411f-baf9-3c3a479d4613"
      },
      "source": [
        "dict_marks_index = dict()\n",
        "j=0\n",
        "while j<len(name):\n",
        "  l=[i for i in range(len(name)) if name[i]==name[j]]\n",
        "  dict_marks_index[name[j]]=l\n",
        "  print(l)\n",
        "  j=j+1\n"
      ],
      "execution_count": 216,
      "outputs": [
        {
          "output_type": "stream",
          "text": [
            "[0, 64, 128]\n",
            "[1, 5, 13, 65, 69, 77, 129, 133, 141]\n",
            "[2, 10, 18, 34, 50, 66, 74, 82, 98, 114, 130, 138, 146, 162, 178]\n",
            "[3, 11, 27, 67, 75, 91, 131, 139, 155]\n",
            "[4, 12, 44, 68, 76, 108, 132, 140, 172]\n",
            "[1, 5, 13, 65, 69, 77, 129, 133, 141]\n",
            "[6, 14, 38, 46, 70, 78, 102, 110, 134, 142, 166, 174]\n",
            "[7, 15, 47, 71, 79, 111, 135, 143, 175]\n",
            "[8, 24, 56, 72, 88, 120, 136, 152, 184]\n",
            "[9, 25, 41, 73, 89, 105, 137, 153, 169]\n",
            "[2, 10, 18, 34, 50, 66, 74, 82, 98, 114, 130, 138, 146, 162, 178]\n",
            "[3, 11, 27, 67, 75, 91, 131, 139, 155]\n",
            "[4, 12, 44, 68, 76, 108, 132, 140, 172]\n",
            "[1, 5, 13, 65, 69, 77, 129, 133, 141]\n",
            "[6, 14, 38, 46, 70, 78, 102, 110, 134, 142, 166, 174]\n",
            "[7, 15, 47, 71, 79, 111, 135, 143, 175]\n",
            "[16, 21, 23, 26, 48, 55, 58, 80, 85, 87, 90, 112, 119, 122, 144, 149, 151, 154, 176, 183, 186]\n",
            "[17, 29, 49, 61, 81, 93, 113, 125, 145, 157, 177, 189]\n",
            "[2, 10, 18, 34, 50, 66, 74, 82, 98, 114, 130, 138, 146, 162, 178]\n",
            "[19, 22, 28, 51, 60, 83, 86, 92, 115, 124, 147, 150, 156, 179, 188]\n",
            "[20, 31, 52, 57, 63, 84, 95, 116, 121, 127, 148, 159, 180, 185, 191]\n",
            "[16, 21, 23, 26, 48, 55, 58, 80, 85, 87, 90, 112, 119, 122, 144, 149, 151, 154, 176, 183, 186]\n",
            "[19, 22, 28, 51, 60, 83, 86, 92, 115, 124, 147, 150, 156, 179, 188]\n",
            "[16, 21, 23, 26, 48, 55, 58, 80, 85, 87, 90, 112, 119, 122, 144, 149, 151, 154, 176, 183, 186]\n",
            "[8, 24, 56, 72, 88, 120, 136, 152, 184]\n",
            "[9, 25, 41, 73, 89, 105, 137, 153, 169]\n",
            "[16, 21, 23, 26, 48, 55, 58, 80, 85, 87, 90, 112, 119, 122, 144, 149, 151, 154, 176, 183, 186]\n",
            "[3, 11, 27, 67, 75, 91, 131, 139, 155]\n",
            "[19, 22, 28, 51, 60, 83, 86, 92, 115, 124, 147, 150, 156, 179, 188]\n",
            "[17, 29, 49, 61, 81, 93, 113, 125, 145, 157, 177, 189]\n",
            "[30, 62, 94, 126, 158, 190]\n",
            "[20, 31, 52, 57, 63, 84, 95, 116, 121, 127, 148, 159, 180, 185, 191]\n",
            "[32, 37, 96, 101, 160, 165]\n",
            "[33, 45, 97, 109, 161, 173]\n",
            "[2, 10, 18, 34, 50, 66, 74, 82, 98, 114, 130, 138, 146, 162, 178]\n",
            "[35, 40, 99, 104, 163, 168]\n",
            "[36, 59, 100, 123, 164, 187]\n",
            "[32, 37, 96, 101, 160, 165]\n",
            "[6, 14, 38, 46, 70, 78, 102, 110, 134, 142, 166, 174]\n",
            "[39, 43, 103, 107, 167, 171]\n",
            "[35, 40, 99, 104, 163, 168]\n",
            "[9, 25, 41, 73, 89, 105, 137, 153, 169]\n",
            "[42, 106, 170]\n",
            "[39, 43, 103, 107, 167, 171]\n",
            "[4, 12, 44, 68, 76, 108, 132, 140, 172]\n",
            "[33, 45, 97, 109, 161, 173]\n",
            "[6, 14, 38, 46, 70, 78, 102, 110, 134, 142, 166, 174]\n",
            "[7, 15, 47, 71, 79, 111, 135, 143, 175]\n",
            "[16, 21, 23, 26, 48, 55, 58, 80, 85, 87, 90, 112, 119, 122, 144, 149, 151, 154, 176, 183, 186]\n",
            "[17, 29, 49, 61, 81, 93, 113, 125, 145, 157, 177, 189]\n",
            "[2, 10, 18, 34, 50, 66, 74, 82, 98, 114, 130, 138, 146, 162, 178]\n",
            "[19, 22, 28, 51, 60, 83, 86, 92, 115, 124, 147, 150, 156, 179, 188]\n",
            "[20, 31, 52, 57, 63, 84, 95, 116, 121, 127, 148, 159, 180, 185, 191]\n",
            "[53, 54, 117, 118, 181, 182]\n",
            "[53, 54, 117, 118, 181, 182]\n",
            "[16, 21, 23, 26, 48, 55, 58, 80, 85, 87, 90, 112, 119, 122, 144, 149, 151, 154, 176, 183, 186]\n",
            "[8, 24, 56, 72, 88, 120, 136, 152, 184]\n",
            "[20, 31, 52, 57, 63, 84, 95, 116, 121, 127, 148, 159, 180, 185, 191]\n",
            "[16, 21, 23, 26, 48, 55, 58, 80, 85, 87, 90, 112, 119, 122, 144, 149, 151, 154, 176, 183, 186]\n",
            "[36, 59, 100, 123, 164, 187]\n",
            "[19, 22, 28, 51, 60, 83, 86, 92, 115, 124, 147, 150, 156, 179, 188]\n",
            "[17, 29, 49, 61, 81, 93, 113, 125, 145, 157, 177, 189]\n",
            "[30, 62, 94, 126, 158, 190]\n",
            "[20, 31, 52, 57, 63, 84, 95, 116, 121, 127, 148, 159, 180, 185, 191]\n",
            "[0, 64, 128]\n",
            "[1, 5, 13, 65, 69, 77, 129, 133, 141]\n",
            "[2, 10, 18, 34, 50, 66, 74, 82, 98, 114, 130, 138, 146, 162, 178]\n",
            "[3, 11, 27, 67, 75, 91, 131, 139, 155]\n",
            "[4, 12, 44, 68, 76, 108, 132, 140, 172]\n",
            "[1, 5, 13, 65, 69, 77, 129, 133, 141]\n",
            "[6, 14, 38, 46, 70, 78, 102, 110, 134, 142, 166, 174]\n",
            "[7, 15, 47, 71, 79, 111, 135, 143, 175]\n",
            "[8, 24, 56, 72, 88, 120, 136, 152, 184]\n",
            "[9, 25, 41, 73, 89, 105, 137, 153, 169]\n",
            "[2, 10, 18, 34, 50, 66, 74, 82, 98, 114, 130, 138, 146, 162, 178]\n",
            "[3, 11, 27, 67, 75, 91, 131, 139, 155]\n",
            "[4, 12, 44, 68, 76, 108, 132, 140, 172]\n",
            "[1, 5, 13, 65, 69, 77, 129, 133, 141]\n",
            "[6, 14, 38, 46, 70, 78, 102, 110, 134, 142, 166, 174]\n",
            "[7, 15, 47, 71, 79, 111, 135, 143, 175]\n",
            "[16, 21, 23, 26, 48, 55, 58, 80, 85, 87, 90, 112, 119, 122, 144, 149, 151, 154, 176, 183, 186]\n",
            "[17, 29, 49, 61, 81, 93, 113, 125, 145, 157, 177, 189]\n",
            "[2, 10, 18, 34, 50, 66, 74, 82, 98, 114, 130, 138, 146, 162, 178]\n",
            "[19, 22, 28, 51, 60, 83, 86, 92, 115, 124, 147, 150, 156, 179, 188]\n",
            "[20, 31, 52, 57, 63, 84, 95, 116, 121, 127, 148, 159, 180, 185, 191]\n",
            "[16, 21, 23, 26, 48, 55, 58, 80, 85, 87, 90, 112, 119, 122, 144, 149, 151, 154, 176, 183, 186]\n",
            "[19, 22, 28, 51, 60, 83, 86, 92, 115, 124, 147, 150, 156, 179, 188]\n",
            "[16, 21, 23, 26, 48, 55, 58, 80, 85, 87, 90, 112, 119, 122, 144, 149, 151, 154, 176, 183, 186]\n",
            "[8, 24, 56, 72, 88, 120, 136, 152, 184]\n",
            "[9, 25, 41, 73, 89, 105, 137, 153, 169]\n",
            "[16, 21, 23, 26, 48, 55, 58, 80, 85, 87, 90, 112, 119, 122, 144, 149, 151, 154, 176, 183, 186]\n",
            "[3, 11, 27, 67, 75, 91, 131, 139, 155]\n",
            "[19, 22, 28, 51, 60, 83, 86, 92, 115, 124, 147, 150, 156, 179, 188]\n",
            "[17, 29, 49, 61, 81, 93, 113, 125, 145, 157, 177, 189]\n",
            "[30, 62, 94, 126, 158, 190]\n",
            "[20, 31, 52, 57, 63, 84, 95, 116, 121, 127, 148, 159, 180, 185, 191]\n",
            "[32, 37, 96, 101, 160, 165]\n",
            "[33, 45, 97, 109, 161, 173]\n",
            "[2, 10, 18, 34, 50, 66, 74, 82, 98, 114, 130, 138, 146, 162, 178]\n",
            "[35, 40, 99, 104, 163, 168]\n",
            "[36, 59, 100, 123, 164, 187]\n",
            "[32, 37, 96, 101, 160, 165]\n",
            "[6, 14, 38, 46, 70, 78, 102, 110, 134, 142, 166, 174]\n",
            "[39, 43, 103, 107, 167, 171]\n",
            "[35, 40, 99, 104, 163, 168]\n",
            "[9, 25, 41, 73, 89, 105, 137, 153, 169]\n",
            "[42, 106, 170]\n",
            "[39, 43, 103, 107, 167, 171]\n",
            "[4, 12, 44, 68, 76, 108, 132, 140, 172]\n",
            "[33, 45, 97, 109, 161, 173]\n",
            "[6, 14, 38, 46, 70, 78, 102, 110, 134, 142, 166, 174]\n",
            "[7, 15, 47, 71, 79, 111, 135, 143, 175]\n",
            "[16, 21, 23, 26, 48, 55, 58, 80, 85, 87, 90, 112, 119, 122, 144, 149, 151, 154, 176, 183, 186]\n",
            "[17, 29, 49, 61, 81, 93, 113, 125, 145, 157, 177, 189]\n",
            "[2, 10, 18, 34, 50, 66, 74, 82, 98, 114, 130, 138, 146, 162, 178]\n",
            "[19, 22, 28, 51, 60, 83, 86, 92, 115, 124, 147, 150, 156, 179, 188]\n",
            "[20, 31, 52, 57, 63, 84, 95, 116, 121, 127, 148, 159, 180, 185, 191]\n",
            "[53, 54, 117, 118, 181, 182]\n",
            "[53, 54, 117, 118, 181, 182]\n",
            "[16, 21, 23, 26, 48, 55, 58, 80, 85, 87, 90, 112, 119, 122, 144, 149, 151, 154, 176, 183, 186]\n",
            "[8, 24, 56, 72, 88, 120, 136, 152, 184]\n",
            "[20, 31, 52, 57, 63, 84, 95, 116, 121, 127, 148, 159, 180, 185, 191]\n",
            "[16, 21, 23, 26, 48, 55, 58, 80, 85, 87, 90, 112, 119, 122, 144, 149, 151, 154, 176, 183, 186]\n",
            "[36, 59, 100, 123, 164, 187]\n",
            "[19, 22, 28, 51, 60, 83, 86, 92, 115, 124, 147, 150, 156, 179, 188]\n",
            "[17, 29, 49, 61, 81, 93, 113, 125, 145, 157, 177, 189]\n",
            "[30, 62, 94, 126, 158, 190]\n",
            "[20, 31, 52, 57, 63, 84, 95, 116, 121, 127, 148, 159, 180, 185, 191]\n",
            "[0, 64, 128]\n",
            "[1, 5, 13, 65, 69, 77, 129, 133, 141]\n",
            "[2, 10, 18, 34, 50, 66, 74, 82, 98, 114, 130, 138, 146, 162, 178]\n",
            "[3, 11, 27, 67, 75, 91, 131, 139, 155]\n",
            "[4, 12, 44, 68, 76, 108, 132, 140, 172]\n",
            "[1, 5, 13, 65, 69, 77, 129, 133, 141]\n",
            "[6, 14, 38, 46, 70, 78, 102, 110, 134, 142, 166, 174]\n",
            "[7, 15, 47, 71, 79, 111, 135, 143, 175]\n",
            "[8, 24, 56, 72, 88, 120, 136, 152, 184]\n",
            "[9, 25, 41, 73, 89, 105, 137, 153, 169]\n",
            "[2, 10, 18, 34, 50, 66, 74, 82, 98, 114, 130, 138, 146, 162, 178]\n",
            "[3, 11, 27, 67, 75, 91, 131, 139, 155]\n",
            "[4, 12, 44, 68, 76, 108, 132, 140, 172]\n",
            "[1, 5, 13, 65, 69, 77, 129, 133, 141]\n",
            "[6, 14, 38, 46, 70, 78, 102, 110, 134, 142, 166, 174]\n",
            "[7, 15, 47, 71, 79, 111, 135, 143, 175]\n",
            "[16, 21, 23, 26, 48, 55, 58, 80, 85, 87, 90, 112, 119, 122, 144, 149, 151, 154, 176, 183, 186]\n",
            "[17, 29, 49, 61, 81, 93, 113, 125, 145, 157, 177, 189]\n",
            "[2, 10, 18, 34, 50, 66, 74, 82, 98, 114, 130, 138, 146, 162, 178]\n",
            "[19, 22, 28, 51, 60, 83, 86, 92, 115, 124, 147, 150, 156, 179, 188]\n",
            "[20, 31, 52, 57, 63, 84, 95, 116, 121, 127, 148, 159, 180, 185, 191]\n",
            "[16, 21, 23, 26, 48, 55, 58, 80, 85, 87, 90, 112, 119, 122, 144, 149, 151, 154, 176, 183, 186]\n",
            "[19, 22, 28, 51, 60, 83, 86, 92, 115, 124, 147, 150, 156, 179, 188]\n",
            "[16, 21, 23, 26, 48, 55, 58, 80, 85, 87, 90, 112, 119, 122, 144, 149, 151, 154, 176, 183, 186]\n",
            "[8, 24, 56, 72, 88, 120, 136, 152, 184]\n",
            "[9, 25, 41, 73, 89, 105, 137, 153, 169]\n",
            "[16, 21, 23, 26, 48, 55, 58, 80, 85, 87, 90, 112, 119, 122, 144, 149, 151, 154, 176, 183, 186]\n",
            "[3, 11, 27, 67, 75, 91, 131, 139, 155]\n",
            "[19, 22, 28, 51, 60, 83, 86, 92, 115, 124, 147, 150, 156, 179, 188]\n",
            "[17, 29, 49, 61, 81, 93, 113, 125, 145, 157, 177, 189]\n",
            "[30, 62, 94, 126, 158, 190]\n",
            "[20, 31, 52, 57, 63, 84, 95, 116, 121, 127, 148, 159, 180, 185, 191]\n",
            "[32, 37, 96, 101, 160, 165]\n",
            "[33, 45, 97, 109, 161, 173]\n",
            "[2, 10, 18, 34, 50, 66, 74, 82, 98, 114, 130, 138, 146, 162, 178]\n",
            "[35, 40, 99, 104, 163, 168]\n",
            "[36, 59, 100, 123, 164, 187]\n",
            "[32, 37, 96, 101, 160, 165]\n",
            "[6, 14, 38, 46, 70, 78, 102, 110, 134, 142, 166, 174]\n",
            "[39, 43, 103, 107, 167, 171]\n",
            "[35, 40, 99, 104, 163, 168]\n",
            "[9, 25, 41, 73, 89, 105, 137, 153, 169]\n",
            "[42, 106, 170]\n",
            "[39, 43, 103, 107, 167, 171]\n",
            "[4, 12, 44, 68, 76, 108, 132, 140, 172]\n",
            "[33, 45, 97, 109, 161, 173]\n",
            "[6, 14, 38, 46, 70, 78, 102, 110, 134, 142, 166, 174]\n",
            "[7, 15, 47, 71, 79, 111, 135, 143, 175]\n",
            "[16, 21, 23, 26, 48, 55, 58, 80, 85, 87, 90, 112, 119, 122, 144, 149, 151, 154, 176, 183, 186]\n",
            "[17, 29, 49, 61, 81, 93, 113, 125, 145, 157, 177, 189]\n",
            "[2, 10, 18, 34, 50, 66, 74, 82, 98, 114, 130, 138, 146, 162, 178]\n",
            "[19, 22, 28, 51, 60, 83, 86, 92, 115, 124, 147, 150, 156, 179, 188]\n",
            "[20, 31, 52, 57, 63, 84, 95, 116, 121, 127, 148, 159, 180, 185, 191]\n",
            "[53, 54, 117, 118, 181, 182]\n",
            "[53, 54, 117, 118, 181, 182]\n",
            "[16, 21, 23, 26, 48, 55, 58, 80, 85, 87, 90, 112, 119, 122, 144, 149, 151, 154, 176, 183, 186]\n",
            "[8, 24, 56, 72, 88, 120, 136, 152, 184]\n",
            "[20, 31, 52, 57, 63, 84, 95, 116, 121, 127, 148, 159, 180, 185, 191]\n",
            "[16, 21, 23, 26, 48, 55, 58, 80, 85, 87, 90, 112, 119, 122, 144, 149, 151, 154, 176, 183, 186]\n",
            "[36, 59, 100, 123, 164, 187]\n",
            "[19, 22, 28, 51, 60, 83, 86, 92, 115, 124, 147, 150, 156, 179, 188]\n",
            "[17, 29, 49, 61, 81, 93, 113, 125, 145, 157, 177, 189]\n",
            "[30, 62, 94, 126, 158, 190]\n",
            "[20, 31, 52, 57, 63, 84, 95, 116, 121, 127, 148, 159, 180, 185, 191]\n"
          ],
          "name": "stdout"
        }
      ]
    },
    {
      "cell_type": "markdown",
      "metadata": {
        "id": "97PbeOqVUfMa"
      },
      "source": [
        "To find a list of unique values"
      ]
    },
    {
      "cell_type": "code",
      "metadata": {
        "colab": {
          "base_uri": "https://localhost:8080/"
        },
        "id": "7MAM5ccEKmlT",
        "outputId": "c6b6bd5a-1da5-42fc-b8e3-2aeba13280fc"
      },
      "source": [
        "# to get unique values\n",
        "\n",
        "x = set(name)\n",
        "print(x)"
      ],
      "execution_count": 217,
      "outputs": [
        {
          "output_type": "stream",
          "text": [
            "{'Stephanie', 'John', 'Jack', 'Katy', 'Brody', 'Rima', 'Tony', 'Beyonder', 'Ron', 'Jim', 'Jaya', 'Ram', 'Shyam', 'Bjor', 'Chris', 'Thor', 'Rina', 'Alpha', 'Ludwika', 'Jatz', 'Beta'}\n"
          ],
          "name": "stdout"
        }
      ]
    },
    {
      "cell_type": "markdown",
      "metadata": {
        "id": "y7td7X7NUkIq"
      },
      "source": [
        "Finally, to create a dictionary of name with marks obtained and sum of marks"
      ]
    },
    {
      "cell_type": "code",
      "metadata": {
        "colab": {
          "base_uri": "https://localhost:8080/"
        },
        "id": "yAhZ5aJ7L-tQ",
        "outputId": "109dd1c8-fbd1-4813-ef88-54c7748649f9"
      },
      "source": [
        "def sum_of_element(values):\n",
        "  l =len(values)\n",
        "  i=0\n",
        "  s=0\n",
        "  while i<len(values):\n",
        "    s = s + int(values[i])\n",
        "    i=i+1\n",
        "  return s\n",
        "dict_marks_values = dict()\n",
        "dict_marks_final = dict()\n",
        "list_marks = list()\n",
        "\n",
        "for val in x:\n",
        "  indices = dict_marks_index[val]\n",
        "  print(indices)\n",
        "  values =[]\n",
        "  for j in indices:\n",
        "    values.append(marks[j])\n",
        "    dict_marks_values[val] = [values,sum_of_element(values)]\n",
        "dict_marks_values"
      ],
      "execution_count": 218,
      "outputs": [
        {
          "output_type": "stream",
          "text": [
            "[19, 22, 28, 51, 60, 83, 86, 92, 115, 124, 147, 150, 156, 179, 188]\n",
            "[0, 64, 128]\n",
            "[4, 12, 44, 68, 76, 108, 132, 140, 172]\n",
            "[16, 21, 23, 26, 48, 55, 58, 80, 85, 87, 90, 112, 119, 122, 144, 149, 151, 154, 176, 183, 186]\n",
            "[33, 45, 97, 109, 161, 173]\n",
            "[1, 5, 13, 65, 69, 77, 129, 133, 141]\n",
            "[39, 43, 103, 107, 167, 171]\n",
            "[20, 31, 52, 57, 63, 84, 95, 116, 121, 127, 148, 159, 180, 185, 191]\n",
            "[42, 106, 170]\n",
            "[8, 24, 56, 72, 88, 120, 136, 152, 184]\n",
            "[17, 29, 49, 61, 81, 93, 113, 125, 145, 157, 177, 189]\n",
            "[3, 11, 27, 67, 75, 91, 131, 139, 155]\n",
            "[7, 15, 47, 71, 79, 111, 135, 143, 175]\n",
            "[36, 59, 100, 123, 164, 187]\n",
            "[32, 37, 96, 101, 160, 165]\n",
            "[35, 40, 99, 104, 163, 168]\n",
            "[9, 25, 41, 73, 89, 105, 137, 153, 169]\n",
            "[2, 10, 18, 34, 50, 66, 74, 82, 98, 114, 130, 138, 146, 162, 178]\n",
            "[30, 62, 94, 126, 158, 190]\n",
            "[53, 54, 117, 118, 181, 182]\n",
            "[6, 14, 38, 46, 70, 78, 102, 110, 134, 142, 166, 174]\n"
          ],
          "name": "stdout"
        },
        {
          "output_type": "execute_result",
          "data": {
            "text/plain": [
              "{'Alpha': [['80',\n",
              "   '40',\n",
              "   '80',\n",
              "   '80',\n",
              "   '80',\n",
              "   '80',\n",
              "   '40',\n",
              "   '80',\n",
              "   '80',\n",
              "   '80',\n",
              "   '80',\n",
              "   '40',\n",
              "   '80',\n",
              "   '80',\n",
              "   '80'],\n",
              "  1080],\n",
              " 'Beta': [['50',\n",
              "   '30',\n",
              "   '50',\n",
              "   '30',\n",
              "   '50',\n",
              "   '30',\n",
              "   '50',\n",
              "   '30',\n",
              "   '50',\n",
              "   '30',\n",
              "   '50',\n",
              "   '30'],\n",
              "  480],\n",
              " 'Beyonder': [['20',\n",
              "   '10',\n",
              "   '20',\n",
              "   '70',\n",
              "   '10',\n",
              "   '20',\n",
              "   '10',\n",
              "   '20',\n",
              "   '70',\n",
              "   '10',\n",
              "   '20',\n",
              "   '10',\n",
              "   '20',\n",
              "   '70',\n",
              "   '10'],\n",
              "  390],\n",
              " 'Bjor': [['20', '20', '20', '20', '20', '20'], 120],\n",
              " 'Brody': [['70', '30', '70', '30', '70', '30'], 300],\n",
              " 'Chris': [['100', '60', '100', '60', '100', '60'], 480],\n",
              " 'Jack': [['20', '100', '100', '20', '100', '100', '20', '100', '100'], 660],\n",
              " 'Jatz': [['60', '50', '60', '50', '60', '50'], 330],\n",
              " 'Jaya': [['70',\n",
              "   '30',\n",
              "   '70',\n",
              "   '30',\n",
              "   '70',\n",
              "   '30',\n",
              "   '70',\n",
              "   '30',\n",
              "   '70',\n",
              "   '30',\n",
              "   '70',\n",
              "   '30'],\n",
              "  600],\n",
              " 'Jim': [['100', '100', '100', '100', '100', '100', '100', '100', '100'], 900],\n",
              " 'John': [['100', '100', '100'], 300],\n",
              " 'Katy': [['100',\n",
              "   '60',\n",
              "   '40',\n",
              "   '40',\n",
              "   '100',\n",
              "   '40',\n",
              "   '40',\n",
              "   '100',\n",
              "   '60',\n",
              "   '40',\n",
              "   '40',\n",
              "   '100',\n",
              "   '40',\n",
              "   '40',\n",
              "   '100',\n",
              "   '60',\n",
              "   '40',\n",
              "   '40',\n",
              "   '100',\n",
              "   '40',\n",
              "   '40'],\n",
              "  1260],\n",
              " 'Ludwika': [['30', '30', '30', '30', '30', '30'], 180],\n",
              " 'Ram': [['30', '20', '20', '30', '20', '20', '30', '20', '20'], 210],\n",
              " 'Rima': [['70', '60', '30', '70', '60', '30', '70', '60', '30'], 480],\n",
              " 'Rina': [['70', '70', '70', '70', '70', '70', '70', '70', '70'], 630],\n",
              " 'Ron': [['40', '40', '40'], 120],\n",
              " 'Shyam': [['40', '10', '10', '40', '10', '10', '40', '10', '10'], 180],\n",
              " 'Stephanie': [['30',\n",
              "   '50',\n",
              "   '100',\n",
              "   '30',\n",
              "   '100',\n",
              "   '30',\n",
              "   '50',\n",
              "   '100',\n",
              "   '30',\n",
              "   '100',\n",
              "   '30',\n",
              "   '50',\n",
              "   '100',\n",
              "   '30',\n",
              "   '100'],\n",
              "  930],\n",
              " 'Thor': [['30', '100', '30', '100', '30', '100'], 390],\n",
              " 'Tony': [['40', '20', '40', '20', '40', '20'], 180]}"
            ]
          },
          "metadata": {
            "tags": []
          },
          "execution_count": 218
        }
      ]
    },
    {
      "cell_type": "code",
      "metadata": {
        "colab": {
          "base_uri": "https://localhost:8080/"
        },
        "id": "ZdJi2wS5Us_q",
        "outputId": "604727f8-625c-4478-e0aa-f091fddfd8bf"
      },
      "source": [
        "file = open(\"copy.txt\", \"w\") \n",
        "\n",
        "file.write(\"1. Frequency of names - store it as a dictionary as {name: frequency} \\n\") \n",
        "\n",
        "file.write(str(my_name)) \n",
        "\n",
        "file.write(\"\\n 2. Frequency of marks -  store it as a dictionary as {marks: frequency} \\n\") \n",
        "\n",
        "file.write(str(my_marks)) \n",
        "\n",
        "file.write(\"\\n 3. Marks of each student - store it as a dictionary as {name:[tuple(list of marks of the student, sum of marks)]} \\n\") \n",
        "\n",
        "file.write(str(dict_marks_values)) \n"
      ],
      "execution_count": 219,
      "outputs": [
        {
          "output_type": "execute_result",
          "data": {
            "text/plain": [
              "1560"
            ]
          },
          "metadata": {
            "tags": []
          },
          "execution_count": 219
        }
      ]
    },
    {
      "cell_type": "code",
      "metadata": {
        "id": "MyGOiKetjSV2"
      },
      "source": [
        "file.close()"
      ],
      "execution_count": 220,
      "outputs": []
    }
  ]
}